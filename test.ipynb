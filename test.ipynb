{
 "cells": [
  {
   "metadata": {
    "ExecuteTime": {
     "end_time": "2024-08-28T00:16:30.030474Z",
     "start_time": "2024-08-28T00:16:30.026345Z"
    }
   },
   "cell_type": "code",
   "source": [
    "HTML_content = \"\"\"\n",
    "<div class=\"listViewWrapper\"><div><div class=\"list-view-course-info-div\"><button type=\"button\" aria-expanded=\"false\" class=\"toggle-link more-details-link\" aria-controls=\"crnInfo20243030954\" aria-label=\"Expand to show more information\"></button><span class=\"list-view-course-title\"><a class=\"section-details-link\" aria-haspopup=\"true\" href=\"#\" data-endpoint=\"/StudentRegistrationSsb/ssb/searchResults/getSectionCatalogDetails\" data-attributes=\"202430,30954\">Forging of the United States, 1607-1877</a> | </span><span class=\"list-view-subj-course-section\">History 016 Section 01</span> | <span class=\"bold\">Class Begin: </span>08/28/2024 | <span class=\"bold\">Class End: </span>12/20/2024<br></div><div class=\"list-view-status-div list-view-status\"><span class=\" \">Registered </span></div></div><div class=\"list-view-crn-info-div gray-background\" id=\"crnInfo20243030954\" aria-hidden=\"false\" style=\"display: none;\"><span class=\"bold\">Message: </span><span class=\"list-view-crn-schedule\">**Web Registered**</span> | <span class=\"bold\">Hours: </span><span class=\"list-view-crn-schedule\">4</span> | <span class=\"bold\">Level: </span><span class=\"list-view-crn-schedule\">Undergraduate</span> | <span class=\"bold\">Campus: </span><span class=\"list-view-crn-schedule\">Main</span> | <span class=\"bold\">Schedule Type: </span><span class=\"list-view-crn-schedule\">Lecture</span> | <span class=\"bold\">Grade Mode: </span><span class=\"list-view-crn-schedule\">Normal Letter Grade</span> | <span class=\"bold\">Waitlist Position: </span><span class=\"list-view-crn-schedule\">0</span></div><div class=\"listViewMeetingInformation\"><span class=\"meetingTimes\">08/28/2024 -- 12/13/2024</span><span>&nbsp;&nbsp;&nbsp;</span><div id=\"202430,30954div\" class=\"list-view-pillbox ui-pillbox\" role=\"group\" title=\"Class on: Tuesday,Thursday\"><div class=\"ui-pillbox-summary screen-reader\">Tuesday,Thursday</div><ul aria-hidden=\"true\"><li class=\"ui-state-default\" data-name=\"Sunday\" data-abbreviation=\"S\" aria-checked=\"false\"><div>S</div></li><li class=\"ui-state-default\" data-name=\"Monday\" data-abbreviation=\"M\" aria-checked=\"false\"><div>M</div></li><li class=\"ui-state-default ui-state-highlight\" data-name=\"Tuesday\" data-abbreviation=\"T\" aria-checked=\"true\"><div>T</div></li><li class=\"ui-state-default\" data-name=\"Wednesday\" data-abbreviation=\"W\" aria-checked=\"false\"><div>W</div></li><li class=\"ui-state-default ui-state-highlight\" data-name=\"Thursday\" data-abbreviation=\"T\" aria-checked=\"true\"><div>T</div></li><li class=\"ui-state-default\" data-name=\"Friday\" data-abbreviation=\"F\" aria-checked=\"false\"><div>F</div></li><li class=\"ui-state-default\" data-name=\"Saturday\" data-abbreviation=\"S\" aria-checked=\"false\"><div>S</div></li></ul></div><span>&nbsp;&nbsp;&nbsp;<span>01</span>:<span>30</span>  PM - <span>02</span>:<span>45</span>  PM</span>&nbsp;<span class=\"bold\">Type:</span>&nbsp;Lecture&nbsp;<span class=\"bold\">Location:</span> Main&nbsp;<span class=\"bold\">Building:</span> Classroom and Office 1 Bldg&nbsp;<span class=\"bold\">Room:</span> 116<br><span class=\"meetingTimes\">12/20/2024 -- 12/20/2024</span><span>&nbsp;&nbsp;&nbsp;</span><div id=\"202430,30954div\" class=\"list-view-pillbox ui-pillbox\" role=\"group\" title=\"Class on: Friday\"><div class=\"ui-pillbox-summary screen-reader\">Friday</div><ul aria-hidden=\"true\"><li class=\"ui-state-default\" data-name=\"Sunday\" data-abbreviation=\"S\" aria-checked=\"false\"><div>S</div></li><li class=\"ui-state-default\" data-name=\"Monday\" data-abbreviation=\"M\" aria-checked=\"false\"><div>M</div></li><li class=\"ui-state-default\" data-name=\"Tuesday\" data-abbreviation=\"T\" aria-checked=\"false\"><div>T</div></li><li class=\"ui-state-default\" data-name=\"Wednesday\" data-abbreviation=\"W\" aria-checked=\"false\"><div>W</div></li><li class=\"ui-state-default\" data-name=\"Thursday\" data-abbreviation=\"T\" aria-checked=\"false\"><div>T</div></li><li class=\"ui-state-default ui-state-highlight\" data-name=\"Friday\" data-abbreviation=\"F\" aria-checked=\"true\"><div>F</div></li><li class=\"ui-state-default\" data-name=\"Saturday\" data-abbreviation=\"S\" aria-checked=\"false\"><div>S</div></li></ul></div><span>&nbsp;&nbsp;&nbsp;<span>11</span>:<span>30</span>  AM - <span>02</span>:<span>30</span>  PM</span>&nbsp;<span class=\"bold\">Type:</span>&nbsp;Exam&nbsp;<span class=\"bold\">Location:</span> Main&nbsp;<span class=\"bold\">Building:</span> Classroom and Office 1 Bldg&nbsp;<span class=\"bold\">Room:</span> 116<br></div><div class=\"listViewInstructorInformation\"><span class=\"bold\">Instructor: </span><a class=\"email\" aria-haspopup=\"true\" data-index=\"0\" href=\"mailto:smalloy@ucmerced.edu\">Malloy, Sean</a> (Primary) <br><span class=\"bold\">CRN: </span><span class=\"list-view-crn-schedule\">30954</span></div></div>\n",
    "\"\"\""
   ],
   "id": "a926365d44168d89",
   "outputs": [],
   "execution_count": 15
  },
  {
   "metadata": {
    "ExecuteTime": {
     "end_time": "2024-08-28T00:16:30.040722Z",
     "start_time": "2024-08-28T00:16:30.038728Z"
    }
   },
   "cell_type": "code",
   "source": "from bs4 import BeautifulSoup",
   "id": "7ae255db0cddfe7f",
   "outputs": [],
   "execution_count": 16
  },
  {
   "cell_type": "code",
   "id": "initial_id",
   "metadata": {
    "collapsed": true,
    "ExecuteTime": {
     "end_time": "2024-08-28T01:32:30.178778Z",
     "start_time": "2024-08-28T01:32:30.169982Z"
    }
   },
   "source": [
    "soup = BeautifulSoup(HTML_content, 'html.parser')\n",
    "\n",
    "# Extracting the course title\n",
    "course_info_div = soup.find('div', class_='list-view-course-info-div')\n",
    "course_time_div = soup.find('div', class_='listViewMeetingInformation')\n",
    "course_instructor_div = soup.find('div', class_='listViewInstructorInformation')\n",
    "\n",
    "print(course_info_div.text)\n",
    "print(course_time_div)\n",
    "print(course_instructor_div)\n"
   ],
   "outputs": [
    {
     "name": "stdout",
     "output_type": "stream",
     "text": [
      "Forging of the United States, 1607-1877 | History 016 Section 01 | Class Begin: 08/28/2024 | Class End: 12/20/2024\n",
      "<div class=\"listViewMeetingInformation\"><span class=\"meetingTimes\">08/28/2024 -- 12/13/2024</span><span>   </span><div class=\"list-view-pillbox ui-pillbox\" id=\"202430,30954div\" role=\"group\" title=\"Class on: Tuesday,Thursday\"><div class=\"ui-pillbox-summary screen-reader\">Tuesday,Thursday</div><ul aria-hidden=\"true\"><li aria-checked=\"false\" class=\"ui-state-default\" data-abbreviation=\"S\" data-name=\"Sunday\"><div>S</div></li><li aria-checked=\"false\" class=\"ui-state-default\" data-abbreviation=\"M\" data-name=\"Monday\"><div>M</div></li><li aria-checked=\"true\" class=\"ui-state-default ui-state-highlight\" data-abbreviation=\"T\" data-name=\"Tuesday\"><div>T</div></li><li aria-checked=\"false\" class=\"ui-state-default\" data-abbreviation=\"W\" data-name=\"Wednesday\"><div>W</div></li><li aria-checked=\"true\" class=\"ui-state-default ui-state-highlight\" data-abbreviation=\"T\" data-name=\"Thursday\"><div>T</div></li><li aria-checked=\"false\" class=\"ui-state-default\" data-abbreviation=\"F\" data-name=\"Friday\"><div>F</div></li><li aria-checked=\"false\" class=\"ui-state-default\" data-abbreviation=\"S\" data-name=\"Saturday\"><div>S</div></li></ul></div><span>   <span>01</span>:<span>30</span>  PM - <span>02</span>:<span>45</span>  PM</span> <span class=\"bold\">Type:</span> Lecture <span class=\"bold\">Location:</span> Main <span class=\"bold\">Building:</span> Classroom and Office 1 Bldg <span class=\"bold\">Room:</span> 116<br/><span class=\"meetingTimes\">12/20/2024 -- 12/20/2024</span><span>   </span><div class=\"list-view-pillbox ui-pillbox\" id=\"202430,30954div\" role=\"group\" title=\"Class on: Friday\"><div class=\"ui-pillbox-summary screen-reader\">Friday</div><ul aria-hidden=\"true\"><li aria-checked=\"false\" class=\"ui-state-default\" data-abbreviation=\"S\" data-name=\"Sunday\"><div>S</div></li><li aria-checked=\"false\" class=\"ui-state-default\" data-abbreviation=\"M\" data-name=\"Monday\"><div>M</div></li><li aria-checked=\"false\" class=\"ui-state-default\" data-abbreviation=\"T\" data-name=\"Tuesday\"><div>T</div></li><li aria-checked=\"false\" class=\"ui-state-default\" data-abbreviation=\"W\" data-name=\"Wednesday\"><div>W</div></li><li aria-checked=\"false\" class=\"ui-state-default\" data-abbreviation=\"T\" data-name=\"Thursday\"><div>T</div></li><li aria-checked=\"true\" class=\"ui-state-default ui-state-highlight\" data-abbreviation=\"F\" data-name=\"Friday\"><div>F</div></li><li aria-checked=\"false\" class=\"ui-state-default\" data-abbreviation=\"S\" data-name=\"Saturday\"><div>S</div></li></ul></div><span>   <span>11</span>:<span>30</span>  AM - <span>02</span>:<span>30</span>  PM</span> <span class=\"bold\">Type:</span> Exam <span class=\"bold\">Location:</span> Main <span class=\"bold\">Building:</span> Classroom and Office 1 Bldg <span class=\"bold\">Room:</span> 116<br/></div>\n",
      "<div class=\"listViewInstructorInformation\"><span class=\"bold\">Instructor: </span><a aria-haspopup=\"true\" class=\"email\" data-index=\"0\" href=\"mailto:smalloy@ucmerced.edu\">Malloy, Sean</a> (Primary) <br/><span class=\"bold\">CRN: </span><span class=\"list-view-crn-schedule\">30954</span></div>\n"
     ]
    }
   ],
   "execution_count": 68
  },
  {
   "metadata": {
    "ExecuteTime": {
     "end_time": "2024-08-28T00:16:58.264843Z",
     "start_time": "2024-08-28T00:16:58.255844Z"
    }
   },
   "cell_type": "code",
   "source": [
    "import re\n",
    "\n",
    "\n",
    "text = '''Forging of the United States, 1607-1877 | History 016 Section 01 | Class Begin: 08/28/2024 | Class End: 12/20/2024'''\n",
    "\n",
    "def process_course_info(text):\n",
    "    # Define patterns for each part\n",
    "    course_title_pattern = r\"^(.+?)\\|\"\n",
    "    section_pattern = r\"\\|\\s*(Writing \\d{3} Section \\d{2})\\s*\\|\"\n",
    "    class_begin_pattern = r\"Class Begin:\\s*(\\d{2}/\\d{2}/\\d{4})\\s*\\|\"\n",
    "    class_end_pattern = r\"Class End:\\s*(\\d{2}/\\d{2}/\\d{4})\"\n",
    "    \n",
    "    # Extract using re.search\n",
    "    course_title = re.search(course_title_pattern, text).group(1) if re.search(course_title_pattern, text) else None\n",
    "    section = re.search(section_pattern, text).group(1) if re.search(section_pattern, text) else None\n",
    "    class_begin = re.search(class_begin_pattern, text).group(1) if re.search(class_begin_pattern, text) else None\n",
    "    class_end = re.search(class_end_pattern, text).group(1) if re.search(class_end_pattern, text) else None\n",
    "    \n",
    "    # Return the extracted parts as a dictionary\n",
    "    return {\n",
    "        'course_title': course_title,\n",
    "        'section': section,\n",
    "        'class_begin': class_begin,\n",
    "        'class_end': class_end,\n",
    "    }\n",
    "\n",
    "print(process_course_info(text))"
   ],
   "id": "9fd154085046d201",
   "outputs": [
    {
     "name": "stdout",
     "output_type": "stream",
     "text": [
      "{'course_title': 'Forging of the United States, 1607-1877 ', 'section': None, 'class_begin': '08/28/2024', 'class_end': '12/20/2024'}\n"
     ]
    }
   ],
   "execution_count": 20
  },
  {
   "metadata": {
    "ExecuteTime": {
     "end_time": "2024-08-28T00:17:35.454172Z",
     "start_time": "2024-08-28T00:17:35.450784Z"
    }
   },
   "cell_type": "code",
   "source": [
    "course_instructor_div_text = '''<div class=\"listViewInstructorInformation\"><span class=\"bold\">Instructor: </span><a aria-haspopup=\"true\" class=\"email\" data-index=\"0\" href=\"mailto:smalloy@ucmerced.edu\">Malloy, Sean</a> (Primary) <br/><span class=\"bold\">CRN: </span><span class=\"list-view-crn-schedule\">30954</span></div>'''\n",
    "\n",
    "def process_instructor_info(html_snippet):\n",
    "    # Define the regular expression pattern to extract Instructor, email, and CRN\n",
    "    pattern = r'Instructor:\\s*</span><a[^>]+href=\"mailto:(?P<email>[^\"]+)\">(?P<instructor>[^<]+)</a>.*?CRN:\\s*</span><span[^>]+>(?P<crn>\\d+)</span>'\n",
    "    \n",
    "    # Search for the pattern in the HTML snippet\n",
    "    match = re.search(pattern, html_snippet, re.DOTALL)\n",
    "    \n",
    "    # If a match is found, clean up the instructor name and return the extracted info\n",
    "    if match:\n",
    "        cleaned_instructor = match.group('instructor').replace('\\n', '').strip()\n",
    "        return {\n",
    "            'instructor': re.sub(r'\\s+', ' ', cleaned_instructor),  # Further clean spaces\n",
    "            'instructor_email': match.group('email'),\n",
    "            'crn': match.group('crn')\n",
    "        }\n",
    "    return {}\n",
    "\n",
    "print(process_instructor_info(course_instructor_div_text))\n"
   ],
   "id": "e78425f204f2c2fd",
   "outputs": [
    {
     "name": "stdout",
     "output_type": "stream",
     "text": [
      "{'instructor': 'Malloy, Sean', 'instructor_email': 'smalloy@ucmerced.edu', 'crn': '30954'}\n"
     ]
    }
   ],
   "execution_count": 21
  },
  {
   "metadata": {
    "ExecuteTime": {
     "end_time": "2024-08-28T02:08:17.565643Z",
     "start_time": "2024-08-28T02:08:17.560413Z"
    }
   },
   "cell_type": "code",
   "source": [
    "course_time_HTML = '''<div class=\"listViewMeetingInformation\"><span class=\"meetingTimes\">08/28/2024 -- 12/13/2024</span><span>   </span><div class=\"list-view-pillbox ui-pillbox\" id=\"202430,30954div\" role=\"group\" title=\"Class on: Tuesday,Thursday\"><div class=\"ui-pillbox-summary screen-reader\">Tuesday,Thursday</div><ul aria-hidden=\"true\"><li aria-checked=\"false\" class=\"ui-state-default\" data-abbreviation=\"S\" data-name=\"Sunday\"><div>S</div></li><li aria-checked=\"false\" class=\"ui-state-default\" data-abbreviation=\"M\" data-name=\"Monday\"><div>M</div></li><li aria-checked=\"true\" class=\"ui-state-default ui-state-highlight\" data-abbreviation=\"T\" data-name=\"Tuesday\"><div>T</div></li><li aria-checked=\"false\" class=\"ui-state-default\" data-abbreviation=\"W\" data-name=\"Wednesday\"><div>W</div></li><li aria-checked=\"true\" class=\"ui-state-default ui-state-highlight\" data-abbreviation=\"T\" data-name=\"Thursday\"><div>T</div></li><li aria-checked=\"false\" class=\"ui-state-default\" data-abbreviation=\"F\" data-name=\"Friday\"><div>F</div></li><li aria-checked=\"false\" class=\"ui-state-default\" data-abbreviation=\"S\" data-name=\"Saturday\"><div>S</div></li></ul></div><span>   <span>01</span>:<span>30</span>  PM - <span>02</span>:<span>45</span>  PM</span> <span class=\"bold\">Type:</span> Lecture <span class=\"bold\">Location:</span> Main <span class=\"bold\">Building:</span> Classroom and Office 1 Bldg <span class=\"bold\">Room:</span> 116<br/><span class=\"meetingTimes\">12/20/2024 -- 12/20/2024</span><span>   </span><div class=\"list-view-pillbox ui-pillbox\" id=\"202430,30954div\" role=\"group\" title=\"Class on: Friday\"><div class=\"ui-pillbox-summary screen-reader\">Friday</div><ul aria-hidden=\"true\"><li aria-checked=\"false\" class=\"ui-state-default\" data-abbreviation=\"S\" data-name=\"Sunday\"><div>S</div></li><li aria-checked=\"false\" class=\"ui-state-default\" data-abbreviation=\"M\" data-name=\"Monday\"><div>M</div></li><li aria-checked=\"false\" class=\"ui-state-default\" data-abbreviation=\"T\" data-name=\"Tuesday\"><div>T</div></li><li aria-checked=\"false\" class=\"ui-state-default\" data-abbreviation=\"W\" data-name=\"Wednesday\"><div>W</div></li><li aria-checked=\"false\" class=\"ui-state-default\" data-abbreviation=\"T\" data-name=\"Thursday\"><div>T</div></li><li aria-checked=\"true\" class=\"ui-state-default ui-state-highlight\" data-abbreviation=\"F\" data-name=\"Friday\"><div>F</div></li><li aria-checked=\"false\" class=\"ui-state-default\" data-abbreviation=\"S\" data-name=\"Saturday\"><div>S</div></li></ul></div><span>   <span>11</span>:<span>30</span>  AM - <span>02</span>:<span>30</span>  PM</span> <span class=\"bold\">Type:</span> Exam <span class=\"bold\">Location:</span> Main <span class=\"bold\">Building:</span> Classroom and Office 1 Bldg <span class=\"bold\">Room:</span> 116<br/></div>'''\n",
    "\n",
    "def extract_meeting_times(course_time_HTML):\n",
    "    matches = re.findall(r'<span class=\"meetingTimes\">(.*?)<br/>', course_time_HTML)\n",
    "    return matches\n",
    "\n",
    "# 示例使用\n",
    "\n",
    "extracted_times = extract_meeting_times(course_time_HTML)\n",
    "print(extracted_times)\n",
    "\n"
   ],
   "id": "e2259f83f3f85472",
   "outputs": [
    {
     "name": "stdout",
     "output_type": "stream",
     "text": [
      "[]\n"
     ]
    }
   ],
   "execution_count": 79
  },
  {
   "metadata": {
    "ExecuteTime": {
     "end_time": "2024-08-28T01:10:08.579229Z",
     "start_time": "2024-08-28T01:10:08.568583Z"
    }
   },
   "cell_type": "code",
   "source": [
    "text = r'08/28/2024 -- 12/13/2024</span><span>&nbsp;&nbsp;&nbsp;</span><div id=\"202430,30094div\" class=\"list-view-pillbox ui-pillbox\" role=\"group\" title=\"Class on: Tuesday\"><div class=\"ui-pillbox-summary screen-reader\">Tuesday</div><ul aria-hidden=\"true\"><li class=\"ui-state-default\" data-name=\"Sunday\" data-abbreviation=\"S\" aria-checked=\"false\"><div>S</div></li><li class=\"ui-state-default\" data-name=\"Monday\" data-abbreviation=\"M\" aria-checked=\"false\"><div>M</div></li><li class=\"ui-state-default ui-state-highlight\" data-name=\"Tuesday\" data-abbreviation=\"T\" aria-checked=\"true\"><div>T</div></li><li class=\"ui-state-default\" data-name=\"Wednesday\" data-abbreviation=\"W\" aria-checked=\"false\"><div>W</div></li><li class=\"ui-state-default\" data-name=\"Thursday\" data-abbreviation=\"T\" aria-checked=\"false\"><div>T</div></li><li class=\"ui-state-default\" data-name=\"Friday\" data-abbreviation=\"F\" aria-checked=\"false\"><div>F</div></li><li class=\"ui-state-default\" data-name=\"Saturday\" data-abbreviation=\"S\" aria-checked=\"false\"><div>S</div></li></ul></div><span>&nbsp;&nbsp;&nbsp;<span>05</span>:<span>30</span>  PM - <span>07</span>:<span>20</span>  PM</span>&nbsp;<span class=\"bold\">Type:</span>&nbsp;Discussion&nbsp;<span class=\"bold\">Location:</span> Main&nbsp;<span class=\"bold\">Building:</span> Classroom and Office 1 Bldg&nbsp;<span class=\"bold\">Room:</span> 110<br></div>'\n",
    "\n",
    "def extract_class_info_all_in_one(text):\n",
    "    # Extract time_start and time_end using regular expression\n",
    "    date_range_match = re.search(r\"(\\d{2}/\\d{2}/\\d{4}) -- (\\d{2}/\\d{2}/\\d{4})\", text)\n",
    "    time_start, time_end = date_range_match.groups() if date_range_match else (None, None)\n",
    "    \n",
    "    # Extract days of the week\n",
    "    days_match = re.search(r'role=\"group\" title=\"Class on: (.*?)\"><div', text)\n",
    "    days = days_match.group(1).split(',') if days_match else []\n",
    "    \n",
    "    # Extract class type\n",
    "    type_match = re.search(r'<span class=\"bold\">Type:</span>\\s*&nbsp;(.*?)&nbsp;', text)\n",
    "    class_type = type_match.group(1) if type_match else None\n",
    "    \n",
    "    # Parse the HTML content with BeautifulSoup for location extraction\n",
    "    soup = BeautifulSoup(text, 'html.parser')\n",
    "    \n",
    "    # Extract the location information\n",
    "    location_span = soup.find('span', class_='bold', string='Location:')\n",
    "    building_span = location_span.find_next('span', class_='bold', string='Building:') if location_span else None\n",
    "    room_span = building_span.find_next('span', class_='bold', string='Room:') if building_span else None\n",
    "    \n",
    "    # Extract the text between the spans\n",
    "    location = location_span.next_sibling.strip() if location_span else None\n",
    "    building = building_span.next_sibling.strip() if building_span else None\n",
    "    room = room_span.next_sibling.strip() if room_span else None\n",
    "    \n",
    "    # Combine the location information\n",
    "    full_location = f\"{location} {building} Room: {room}\" if location and building and room else None\n",
    "    location = full_location.replace('\\\\xa0', ',') if full_location else None\n",
    "    \n",
    "    \n",
    "    return {\n",
    "        \"time_start\": time_start,\n",
    "        \"time_end\": time_end,\n",
    "        \"days\": days,\n",
    "        \"class_type\": class_type,\n",
    "        \"location\": location\n",
    "    }\n",
    "\n",
    "print(extract_class_info_all_in_one(text))"
   ],
   "id": "33df9d4372024641",
   "outputs": [
    {
     "name": "stdout",
     "output_type": "stream",
     "text": [
      "{'time_start': '08/28/2024', 'time_end': '12/13/2024', 'days': ['Tuesday'], 'class_type': 'Discussion', 'location': 'Main Classroom and Office 1 Bldg Room: 110'}\n"
     ]
    }
   ],
   "execution_count": 67
  },
  {
   "metadata": {
    "ExecuteTime": {
     "end_time": "2024-08-28T02:07:19.426614Z",
     "start_time": "2024-08-28T02:07:19.418423Z"
    }
   },
   "cell_type": "code",
   "source": [
    "import re\n",
    "\n",
    "def extract_substrings(text):\n",
    "    pattern = r'<span class=\"meetingTimes\">(.*?)<br\\s*/?>'\n",
    "    return re.findall(pattern, text)\n",
    "\n",
    "text = \"\"\"<div class=\"listViewMeetingInformation\"><span class=\"meetingTimes\">08/28/2024 -- 12/13/2024</span><span>   </span>\n",
    "<div class=\"list-view-pillbox ui-pillbox\" id=\"202430,30714div\" role=\"group\" title=\"Class on: Monday,Wednesday\">\n",
    "<div class=\"ui-pillbox-summary screen-reader\">Monday,Wednesday</div>\n",
    "<ul aria-hidden=\"true\">\n",
    "<li aria-checked=\"false\" class=\"ui-state-default\" data-abbreviation=\"S\" data-name=\"Sunday\">\n",
    "<div>S</div>\n",
    "</li>\n",
    "<li aria-checked=\"true\" class=\"ui-state-default ui-state-highlight\" data-abbreviation=\"M\" data-name=\"Monday\">\n",
    "<div>M</div>\n",
    "</li>\n",
    "<li aria-checked=\"false\" class=\"ui-state-default\" data-abbreviation=\"T\" data-name=\"Tuesday\">\n",
    "<div>T</div>\n",
    "</li>\n",
    "<li aria-checked=\"true\" class=\"ui-state-default ui-state-highlight\" data-abbreviation=\"W\" data-name=\"Wednesday\">\n",
    "<div>W</div>\n",
    "</li>\n",
    "<li aria-checked=\"false\" class=\"ui-state-default\" data-abbreviation=\"T\" data-name=\"Thursday\">\n",
    "<div>T</div>\n",
    "</li>\n",
    "<li aria-checked=\"false\" class=\"ui-state-default\" data-abbreviation=\"F\" data-name=\"Friday\">\n",
    "<div>F</div>\n",
    "</li>\n",
    "<li aria-checked=\"false\" class=\"ui-state-default\" data-abbreviation=\"S\" data-name=\"Saturday\">\n",
    "<div>S</div>\n",
    "</li>\n",
    "</ul>\n",
    "</div>\n",
    "<span>   <span>05</span>:<span>30</span>  PM - <span>07</span>:<span>20</span>  PM</span> <span class=\"bold\">Type:</span> Seminar <span class=\"bold\">Location:</span> Main <span class=\"bold\">Building:</span> Classroom and Office 1 Bldg <span class=\"bold\">Room:</span> 266<br/>\n",
    "</div>\"\"\"\n",
    "\n",
    "# 提取子字符串\n",
    "substrings = extract_substrings(text)\n",
    "print(substrings)"
   ],
   "id": "58dfe0f4b04e0904",
   "outputs": [
    {
     "name": "stdout",
     "output_type": "stream",
     "text": [
      "[]\n"
     ]
    }
   ],
   "execution_count": 77
  },
  {
   "metadata": {},
   "cell_type": "code",
   "outputs": [],
   "execution_count": null,
   "source": "",
   "id": "228c8effd08542f0"
  }
 ],
 "metadata": {
  "kernelspec": {
   "display_name": "Python 3",
   "language": "python",
   "name": "python3"
  },
  "language_info": {
   "codemirror_mode": {
    "name": "ipython",
    "version": 2
   },
   "file_extension": ".py",
   "mimetype": "text/x-python",
   "name": "python",
   "nbconvert_exporter": "python",
   "pygments_lexer": "ipython2",
   "version": "2.7.6"
  }
 },
 "nbformat": 4,
 "nbformat_minor": 5
}
